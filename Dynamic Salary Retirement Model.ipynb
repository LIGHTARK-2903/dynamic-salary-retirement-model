{
 "cells": [
  {
   "cell_type": "markdown",
   "metadata": {},
   "source": [
    "# Dynamic Salary Retirement Model\n",
    "\n",
    "Table of content:\n",
    "- [**Setup**](#Setup): Runs any imports or other setup\n",
    "- [**Inputs**](#Inputs): Defines the input of the model\n",
    "- [**Salaries**](#Salaries): Determines the annual salary based on cost of living and promotion raises.\n",
    "- [**Wealth**](#Wealth): Calculates the wealth generating over the years.\n",
    "- [**Retirement**](#Retirement): Calculates the Retirement Corpus after each year."
   ]
  },
  {
   "cell_type": "markdown",
   "metadata": {},
   "source": [
    "# Setup\n",
    "\n",
    "Setups for the later calculations are here. The necessary packages are imported."
   ]
  },
  {
   "cell_type": "code",
   "execution_count": 40,
   "metadata": {},
   "outputs": [],
   "source": [
    "from dataclasses import dataclass\n",
    "import pandas"
   ]
  },
  {
   "cell_type": "markdown",
   "metadata": {},
   "source": [
    "# Inputs \n",
    "All the inputs for the model are defined here. A class is contructed to manage the data, and an instance of the class containing the default inputs is created."
   ]
  },
  {
   "cell_type": "code",
   "execution_count": 41,
   "metadata": {},
   "outputs": [
    {
     "data": {
      "text/plain": [
       "ModelInputs(starting_salary=60000, promos_after_every_n_years=5, cost_of_living_raise=0.02, promo_raise=0.15, savings_rate=0.25, interest_rate=0.05, desired_cash=1500000)"
      ]
     },
     "execution_count": 41,
     "metadata": {},
     "output_type": "execute_result"
    }
   ],
   "source": [
    "@dataclass\n",
    "class ModelInputs:\n",
    "    starting_salary: int = 60000\n",
    "    promos_after_every_n_years: int = 5\n",
    "    cost_of_living_raise: float = 0.02\n",
    "    promo_raise: float = 0.15\n",
    "    savings_rate: float = 0.25\n",
    "    interest_rate: float = 0.05\n",
    "    desired_cash: int = 1500000\n",
    "\n",
    "model_data = ModelInputs()\n",
    "model_data"
   ]
  },
  {
   "cell_type": "markdown",
   "metadata": {},
   "source": [
    "## Salaries\n",
    "\n",
    "Using the Formula : $S_t = S_0(1 + r_l)^t (1 + r_p)^p$ we will calculate the salaries at different years.<br><br>\n",
    "where\n",
    "- $S_t$ : Salary at year $t$\n",
    "- $S_0$ : Starting Salary\n",
    "- $r_l$ : Return for cost of living\n",
    "- $r_p$ : Return for Promotion\n",
    "- $t$ : Number of Years\n",
    "- $p$ : Number of Promotions"
   ]
  },
  {
   "cell_type": "code",
   "execution_count": 42,
   "metadata": {},
   "outputs": [],
   "source": [
    "def salary_at_year(data, year):\n",
    "    \"\"\"\n",
    "    Using this function will give you the salary at that particular year.\n",
    "    \"\"\"\n",
    "    num_promos = int(year/data.promos_after_every_n_years)\n",
    "\n",
    "    salary_t = data.starting_salary * (1 + data.cost_of_living_raise)**year * (1 + data.promo_raise)** num_promos\n",
    "    return salary_t"
   ]
  },
  {
   "cell_type": "code",
   "execution_count": 43,
   "metadata": {},
   "outputs": [
    {
     "name": "stdout",
     "output_type": "stream",
     "text": [
      "The Salary at year 1 is $61,200\n",
      "The Salary at year 2 is $62,424\n",
      "The Salary at year 3 is $63,672\n",
      "The Salary at year 4 is $64,946\n",
      "The Salary at year 5 is $76,182\n",
      "The Salary at year 6 is $77,705\n"
     ]
    }
   ],
   "source": [
    "for i in range(6):\n",
    "    year = i +1\n",
    "    salary = salary_at_year(model_data, year)\n",
    "    print(f'The Salary at year {year} is ${salary:,.0f}')"
   ]
  },
  {
   "cell_type": "markdown",
   "metadata": {},
   "source": [
    "## Wealth\n",
    "\n",
    "Using the formula : $W_t = W_t-1 (1 + r_i) + S_t v$ we will calculate the Wealth generated at different years. <br><br>where\n",
    "- $S_t$ : Salary at year $t$\n",
    "- $W_t$ : Wealth at year $t$\n",
    "- $r_i$ : Investment Return\n",
    "- $t$ : Number of years\n",
    "- $v$ : Savings Rate"
   ]
  },
  {
   "cell_type": "code",
   "execution_count": 44,
   "metadata": {},
   "outputs": [
    {
     "data": {
      "text/plain": [
       "30703.46263573066"
      ]
     },
     "execution_count": 44,
     "metadata": {},
     "output_type": "execute_result"
    }
   ],
   "source": [
    "def cash_saved_during_year(data, year):\n",
    "    salary = salary_at_year(data, year)\n",
    "    cash_saved = salary * data.savings_rate\n",
    "    return cash_saved\n",
    "cash_saved_during_year(model_data, 15)"
   ]
  },
  {
   "cell_type": "code",
   "execution_count": 45,
   "metadata": {},
   "outputs": [],
   "source": [
    "def wealth_at_year(data, year, prior_wealth):\n",
    "    cash_saved = cash_saved_during_year(data, year)\n",
    "    wealth = prior_wealth * (1 + data.interest_rate) + cash_saved\n",
    "    return wealth"
   ]
  },
  {
   "cell_type": "code",
   "execution_count": 46,
   "metadata": {},
   "outputs": [
    {
     "name": "stdout",
     "output_type": "stream",
     "text": [
      "The wealth at year 1 is $15,300\n",
      "The wealth at year 2 is $31,671\n",
      "The wealth at year 3 is $49,173\n",
      "The wealth at year 4 is $67,868\n",
      "The wealth at year 5 is $90,307\n",
      "The wealth at year 6 is $114,248\n"
     ]
    }
   ],
   "source": [
    "prior_wealth = 0\n",
    "for i in range(6):\n",
    "    year = i + 1\n",
    "    wealth = wealth_at_year(model_data, year, prior_wealth)\n",
    "    print(f'The wealth at year {year} is ${wealth:,.0f}')\n",
    "\n",
    "    prior_wealth = wealth"
   ]
  },
  {
   "cell_type": "markdown",
   "metadata": {},
   "source": [
    "## Retirement"
   ]
  },
  {
   "cell_type": "code",
   "execution_count": 47,
   "metadata": {},
   "outputs": [],
   "source": [
    "def years_to_retirement(data):\n",
    "\n",
    "    # starting with no cash saved\n",
    "    prior_wealth = 0\n",
    "    wealth = 0\n",
    "\n",
    "    year = 0 # will become 1 on first loop\n",
    "\n",
    "    print('Wealth over time:') # \\n makes a blank line in the outpu\n",
    "    while wealth < data.desired_cash:\n",
    "        year = year + 1\n",
    "        wealth = wealth_at_year(data, year, prior_wealth)\n",
    "        print(f'The wealth at year {year} is ${wealth:,.0f}')\n",
    "\n",
    "        # set next year's prior wealth to this year's wealth\n",
    "        prior_wealth = wealth\n",
    "    \n",
    "    print('\\n\\n\\nRetirement:')    \n",
    "    print(f'It will take you {year} years to retire.')\n",
    "    return year"
   ]
  },
  {
   "cell_type": "code",
   "execution_count": 48,
   "metadata": {},
   "outputs": [
    {
     "name": "stdout",
     "output_type": "stream",
     "text": [
      "Wealth over time:\n",
      "The wealth at year 1 is $15,300\n",
      "The wealth at year 2 is $31,671\n",
      "The wealth at year 3 is $49,173\n",
      "The wealth at year 4 is $67,868\n",
      "The wealth at year 5 is $90,307\n",
      "The wealth at year 6 is $114,248\n",
      "The wealth at year 7 is $139,775\n",
      "The wealth at year 8 is $166,975\n",
      "The wealth at year 9 is $195,939\n",
      "The wealth at year 10 is $229,918\n",
      "The wealth at year 11 is $266,080\n",
      "The wealth at year 12 is $304,542\n",
      "The wealth at year 13 is $345,431\n",
      "The wealth at year 14 is $388,878\n",
      "The wealth at year 15 is $439,025\n",
      "The wealth at year 16 is $492,294\n",
      "The wealth at year 17 is $548,853\n",
      "The wealth at year 18 is $608,878\n",
      "The wealth at year 19 is $672,557\n",
      "The wealth at year 20 is $745,168\n",
      "The wealth at year 21 is $822,190\n",
      "The wealth at year 22 is $903,859\n",
      "The wealth at year 23 is $990,422\n",
      "The wealth at year 24 is $1,082,140\n",
      "The wealth at year 25 is $1,185,745\n",
      "The wealth at year 26 is $1,295,520\n",
      "The wealth at year 27 is $1,411,793\n",
      "The wealth at year 28 is $1,534,910\n",
      "\n",
      "\n",
      "\n",
      "Retirement:\n",
      "It will take you 28 years to retire.\n"
     ]
    }
   ],
   "source": [
    "ytr = years_to_retirement(model_data)"
   ]
  },
  {
   "cell_type": "markdown",
   "metadata": {},
   "source": [
    "# Results Summary"
   ]
  },
  {
   "cell_type": "code",
   "execution_count": null,
   "metadata": {},
   "outputs": [],
   "source": []
  }
 ],
 "metadata": {
  "kernelspec": {
   "display_name": "Python 3",
   "language": "python",
   "name": "python3"
  },
  "language_info": {
   "codemirror_mode": {
    "name": "ipython",
    "version": 3
   },
   "file_extension": ".py",
   "mimetype": "text/x-python",
   "name": "python",
   "nbconvert_exporter": "python",
   "pygments_lexer": "ipython3",
   "version": "3.13.0"
  }
 },
 "nbformat": 4,
 "nbformat_minor": 2
}
