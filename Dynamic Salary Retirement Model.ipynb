{
 "cells": [
  {
   "cell_type": "markdown",
   "metadata": {},
   "source": [
    "# Dynamic Salary Retirement Model\n",
    "\n",
    "Table of content:\n",
    "- [**Setup**](#Setup): Runs any imports or other setup\n",
    "- [**Inputs**](#Inputs): Defines the input of the model\n",
    "- [**Salaries**](#Salaries): Determines the annual salary based on cost of living and promotion raises.\n",
    "- [**Wealth**](#Wealth): Calculates the wealth generating over the years.\n",
    "- [**Retirement**](#Retirement): Calculates the Retirement Corpus after each year."
   ]
  },
  {
   "cell_type": "markdown",
   "metadata": {},
   "source": [
    "# Setup\n",
    "\n",
    "Setups for the later calculations are here. The necessary packages are imported."
   ]
  },
  {
   "cell_type": "code",
   "execution_count": 22,
   "metadata": {},
   "outputs": [],
   "source": [
    "from dataclasses import dataclass\n",
    "import pandas as pd"
   ]
  },
  {
   "cell_type": "markdown",
   "metadata": {},
   "source": [
    "# Inputs \n",
    "All the inputs for the model are defined here. A class is contructed to manage the data, and an instance of the class containing the default inputs is created."
   ]
  },
  {
   "cell_type": "code",
   "execution_count": 3,
   "metadata": {},
   "outputs": [
    {
     "data": {
      "text/plain": [
       "ModelInputs(starting_salary=60000, promos_after_every_n_years=5, cost_of_living_raise=0.02, promo_raise=0.15, savings_rate=0.25, interest_rate=0.05, desired_cash=1500000)"
      ]
     },
     "execution_count": 3,
     "metadata": {},
     "output_type": "execute_result"
    }
   ],
   "source": [
    "@dataclass\n",
    "class ModelInputs:\n",
    "    starting_salary: int = 60000\n",
    "    promos_after_every_n_years: int = 5\n",
    "    cost_of_living_raise: float = 0.02\n",
    "    promo_raise: float = 0.15\n",
    "    savings_rate: float = 0.25\n",
    "    interest_rate: float = 0.05\n",
    "    desired_cash: int = 1500000\n",
    "\n",
    "model_data = ModelInputs()\n",
    "model_data"
   ]
  },
  {
   "cell_type": "code",
   "execution_count": 4,
   "metadata": {},
   "outputs": [],
   "source": [
    "data = model_data"
   ]
  },
  {
   "cell_type": "markdown",
   "metadata": {},
   "source": [
    "## Salaries\n",
    "\n",
    "Using the Formula : $S_t = S_0(1 + r_l)^t (1 + r_p)^p$ we will calculate the salaries at different years.<br><br>\n",
    "where\n",
    "- $S_t$ : Salary at year $t$\n",
    "- $S_0$ : Starting Salary\n",
    "- $r_l$ : Return for cost of living\n",
    "- $r_p$ : Return for Promotion\n",
    "- $t$ : Number of Years\n",
    "- $p$ : Number of Promotions"
   ]
  },
  {
   "cell_type": "code",
   "execution_count": 5,
   "metadata": {},
   "outputs": [],
   "source": [
    "def salary_at_year(data, year):\n",
    "    \"\"\"\n",
    "    Using this function will give you the salary at that particular year.\n",
    "    \"\"\"\n",
    "    num_promos = int(year/data.promos_after_every_n_years)\n",
    "\n",
    "    salary_t = data.starting_salary * (1 + data.cost_of_living_raise)**year * (1 + data.promo_raise)** num_promos\n",
    "    return salary_t"
   ]
  },
  {
   "cell_type": "code",
   "execution_count": 43,
   "metadata": {},
   "outputs": [
    {
     "name": "stdout",
     "output_type": "stream",
     "text": [
      "The Salary at year 1 is $61,200\n",
      "The Salary at year 2 is $62,424\n",
      "The Salary at year 3 is $63,672\n",
      "The Salary at year 4 is $64,946\n",
      "The Salary at year 5 is $76,182\n",
      "The Salary at year 6 is $77,705\n"
     ]
    }
   ],
   "source": [
    "for i in range(6):\n",
    "    year = i +1\n",
    "    salary = salary_at_year(model_data, year)\n",
    "    print(f'The Salary at year {year} is ${salary:,.0f}')"
   ]
  },
  {
   "cell_type": "markdown",
   "metadata": {},
   "source": [
    "## Wealth\n",
    "\n",
    "Using the formula : $W_t = W_t-1 (1 + r_i) + S_t v$ we will calculate the Wealth generated at different years. <br><br>where\n",
    "- $S_t$ : Salary at year $t$\n",
    "- $W_t$ : Wealth at year $t$\n",
    "- $r_i$ : Investment Return\n",
    "- $t$ : Number of years\n",
    "- $v$ : Savings Rate"
   ]
  },
  {
   "cell_type": "code",
   "execution_count": 44,
   "metadata": {},
   "outputs": [
    {
     "data": {
      "text/plain": [
       "30703.46263573066"
      ]
     },
     "execution_count": 7,
     "metadata": {},
     "output_type": "execute_result"
    }
   ],
   "source": [
    "def cash_saved_during_year(data, year):\n",
    "    salary = salary_at_year(data, year)\n",
    "    cash_saved = salary * data.savings_rate\n",
    "    return cash_saved\n",
    "cash_saved_during_year(model_data, 15)"
   ]
  },
  {
   "cell_type": "code",
   "execution_count": 45,
   "metadata": {},
   "outputs": [],
   "source": [
    "def wealth_at_year(data, year, prior_wealth):\n",
    "    cash_saved = cash_saved_during_year(data, year)\n",
    "    wealth = prior_wealth * (1 + data.interest_rate) + cash_saved\n",
    "    return wealth"
   ]
  },
  {
   "cell_type": "code",
   "execution_count": 46,
   "metadata": {},
   "outputs": [
    {
     "name": "stdout",
     "output_type": "stream",
     "text": [
      "The wealth at year 1 is $15,300\n",
      "The wealth at year 2 is $31,671\n",
      "The wealth at year 3 is $49,173\n",
      "The wealth at year 4 is $67,868\n",
      "The wealth at year 5 is $90,307\n",
      "The wealth at year 6 is $114,248\n"
     ]
    }
   ],
   "source": [
    "prior_wealth = 0\n",
    "for i in range(6):\n",
    "    year = i + 1\n",
    "    wealth = wealth_at_year(model_data, year, prior_wealth)\n",
    "    print(f'The wealth at year {year} is ${wealth:,.0f}')\n",
    "\n",
    "    prior_wealth = wealth"
   ]
  },
  {
   "cell_type": "markdown",
   "metadata": {},
   "source": [
    "## Retirement"
   ]
  },
  {
   "cell_type": "code",
   "execution_count": 47,
   "metadata": {},
   "outputs": [],
   "source": [
    "def years_to_retirement(data):\n",
    "\n",
    "    # starting with no cash saved\n",
    "    prior_wealth = 0\n",
    "    wealth = 0\n",
    "\n",
    "    year = 0 # will become 1 on first loop\n",
    "\n",
    "    print('Wealth over time:') # \\n makes a blank line in the outpu\n",
    "    while wealth < data.desired_cash:\n",
    "        year = year + 1\n",
    "        wealth = wealth_at_year(data, year, prior_wealth)\n",
    "        print(f'The wealth at year {year} is ${wealth:,.0f}')\n",
    "\n",
    "        # set next year's prior wealth to this year's wealth\n",
    "        prior_wealth = wealth\n",
    "    \n",
    "    # Now we have exited the loop, so wealth must be >= desired_cash. Whatever last year was set\n",
    "    # is the years to retirement   \n",
    "    print(f'\\nRetirement:\\nIt will take you {year} years to retire.')\n",
    "    return year"
   ]
  },
  {
   "cell_type": "code",
   "execution_count": 48,
   "metadata": {},
   "outputs": [],
   "source": [
    "ytr = years_to_retirement(model_data)"
   ]
  },
  {
   "cell_type": "markdown",
   "metadata": {},
   "source": [
    "# Results Summary"
   ]
  },
  {
   "cell_type": "code",
   "execution_count": 34,
   "metadata": {},
   "outputs": [],
   "source": [
    "def get_salaries_wealths_df(data):\n",
    "    # Starting with no cash saved\n",
    "    prior_wealth = 0\n",
    "    wealth = 0\n",
    "        \n",
    "    year = 0 # will become 1 on first loop\n",
    "\n",
    "    df_data_tups = []\n",
    "    while wealth < data.desired_cash:\n",
    "        year = year + 1\n",
    "        salary = salary_at_year(data, year)\n",
    "        wealth = wealth_at_year(model_data, year, prior_wealth)\n",
    "\n",
    "        # set next year's prior wealth to this year's wealth\n",
    "        prior_wealth = wealth\n",
    "\n",
    "        df_data_tups.append((year, salary, wealth))\n",
    "\n",
    "    df = pd.DataFrame(df_data_tups, columns = ['Year', 'Salary', 'Wealth'])\n",
    "    return df"
   ]
  },
  {
   "cell_type": "code",
   "execution_count": 35,
   "metadata": {},
   "outputs": [
    {
     "data": {
      "text/html": [
       "<div>\n",
       "<style scoped>\n",
       "    .dataframe tbody tr th:only-of-type {\n",
       "        vertical-align: middle;\n",
       "    }\n",
       "\n",
       "    .dataframe tbody tr th {\n",
       "        vertical-align: top;\n",
       "    }\n",
       "\n",
       "    .dataframe thead th {\n",
       "        text-align: right;\n",
       "    }\n",
       "</style>\n",
       "<table border=\"1\" class=\"dataframe\">\n",
       "  <thead>\n",
       "    <tr style=\"text-align: right;\">\n",
       "      <th></th>\n",
       "      <th>Year</th>\n",
       "      <th>Salary</th>\n",
       "      <th>Wealth</th>\n",
       "    </tr>\n",
       "  </thead>\n",
       "  <tbody>\n",
       "    <tr>\n",
       "      <th>0</th>\n",
       "      <td>1</td>\n",
       "      <td>61200.000000</td>\n",
       "      <td>1.530000e+04</td>\n",
       "    </tr>\n",
       "    <tr>\n",
       "      <th>1</th>\n",
       "      <td>2</td>\n",
       "      <td>62424.000000</td>\n",
       "      <td>3.167100e+04</td>\n",
       "    </tr>\n",
       "    <tr>\n",
       "      <th>2</th>\n",
       "      <td>3</td>\n",
       "      <td>63672.480000</td>\n",
       "      <td>4.917267e+04</td>\n",
       "    </tr>\n",
       "    <tr>\n",
       "      <th>3</th>\n",
       "      <td>4</td>\n",
       "      <td>64945.929600</td>\n",
       "      <td>6.786779e+04</td>\n",
       "    </tr>\n",
       "    <tr>\n",
       "      <th>4</th>\n",
       "      <td>5</td>\n",
       "      <td>76181.575421</td>\n",
       "      <td>9.030657e+04</td>\n",
       "    </tr>\n",
       "    <tr>\n",
       "      <th>5</th>\n",
       "      <td>6</td>\n",
       "      <td>77705.206929</td>\n",
       "      <td>1.142482e+05</td>\n",
       "    </tr>\n",
       "    <tr>\n",
       "      <th>6</th>\n",
       "      <td>7</td>\n",
       "      <td>79259.311068</td>\n",
       "      <td>1.397754e+05</td>\n",
       "    </tr>\n",
       "    <tr>\n",
       "      <th>7</th>\n",
       "      <td>8</td>\n",
       "      <td>80844.497289</td>\n",
       "      <td>1.669753e+05</td>\n",
       "    </tr>\n",
       "    <tr>\n",
       "      <th>8</th>\n",
       "      <td>9</td>\n",
       "      <td>82461.387235</td>\n",
       "      <td>1.959394e+05</td>\n",
       "    </tr>\n",
       "    <tr>\n",
       "      <th>9</th>\n",
       "      <td>10</td>\n",
       "      <td>96727.207227</td>\n",
       "      <td>2.299182e+05</td>\n",
       "    </tr>\n",
       "    <tr>\n",
       "      <th>10</th>\n",
       "      <td>11</td>\n",
       "      <td>98661.751371</td>\n",
       "      <td>2.660796e+05</td>\n",
       "    </tr>\n",
       "    <tr>\n",
       "      <th>11</th>\n",
       "      <td>12</td>\n",
       "      <td>100634.986399</td>\n",
       "      <td>3.045423e+05</td>\n",
       "    </tr>\n",
       "    <tr>\n",
       "      <th>12</th>\n",
       "      <td>13</td>\n",
       "      <td>102647.686127</td>\n",
       "      <td>3.454313e+05</td>\n",
       "    </tr>\n",
       "    <tr>\n",
       "      <th>13</th>\n",
       "      <td>14</td>\n",
       "      <td>104700.639849</td>\n",
       "      <td>3.888781e+05</td>\n",
       "    </tr>\n",
       "    <tr>\n",
       "      <th>14</th>\n",
       "      <td>15</td>\n",
       "      <td>122813.850543</td>\n",
       "      <td>4.390254e+05</td>\n",
       "    </tr>\n",
       "    <tr>\n",
       "      <th>15</th>\n",
       "      <td>16</td>\n",
       "      <td>125270.127554</td>\n",
       "      <td>4.922942e+05</td>\n",
       "    </tr>\n",
       "    <tr>\n",
       "      <th>16</th>\n",
       "      <td>17</td>\n",
       "      <td>127775.530105</td>\n",
       "      <td>5.488528e+05</td>\n",
       "    </tr>\n",
       "    <tr>\n",
       "      <th>17</th>\n",
       "      <td>18</td>\n",
       "      <td>130331.040707</td>\n",
       "      <td>6.088782e+05</td>\n",
       "    </tr>\n",
       "    <tr>\n",
       "      <th>18</th>\n",
       "      <td>19</td>\n",
       "      <td>132937.661521</td>\n",
       "      <td>6.725565e+05</td>\n",
       "    </tr>\n",
       "    <tr>\n",
       "      <th>19</th>\n",
       "      <td>20</td>\n",
       "      <td>155935.876964</td>\n",
       "      <td>7.451683e+05</td>\n",
       "    </tr>\n",
       "    <tr>\n",
       "      <th>20</th>\n",
       "      <td>21</td>\n",
       "      <td>159054.594504</td>\n",
       "      <td>8.221904e+05</td>\n",
       "    </tr>\n",
       "    <tr>\n",
       "      <th>21</th>\n",
       "      <td>22</td>\n",
       "      <td>162235.686394</td>\n",
       "      <td>9.038589e+05</td>\n",
       "    </tr>\n",
       "    <tr>\n",
       "      <th>22</th>\n",
       "      <td>23</td>\n",
       "      <td>165480.400121</td>\n",
       "      <td>9.904219e+05</td>\n",
       "    </tr>\n",
       "    <tr>\n",
       "      <th>23</th>\n",
       "      <td>24</td>\n",
       "      <td>168790.008124</td>\n",
       "      <td>1.082140e+06</td>\n",
       "    </tr>\n",
       "    <tr>\n",
       "      <th>24</th>\n",
       "      <td>25</td>\n",
       "      <td>197990.679529</td>\n",
       "      <td>1.185745e+06</td>\n",
       "    </tr>\n",
       "    <tr>\n",
       "      <th>25</th>\n",
       "      <td>26</td>\n",
       "      <td>201950.493120</td>\n",
       "      <td>1.295520e+06</td>\n",
       "    </tr>\n",
       "    <tr>\n",
       "      <th>26</th>\n",
       "      <td>27</td>\n",
       "      <td>205989.502982</td>\n",
       "      <td>1.411793e+06</td>\n",
       "    </tr>\n",
       "    <tr>\n",
       "      <th>27</th>\n",
       "      <td>28</td>\n",
       "      <td>210109.293042</td>\n",
       "      <td>1.534910e+06</td>\n",
       "    </tr>\n",
       "  </tbody>\n",
       "</table>\n",
       "</div>"
      ],
      "text/plain": [
       "    Year         Salary        Wealth\n",
       "0      1   61200.000000  1.530000e+04\n",
       "1      2   62424.000000  3.167100e+04\n",
       "2      3   63672.480000  4.917267e+04\n",
       "3      4   64945.929600  6.786779e+04\n",
       "4      5   76181.575421  9.030657e+04\n",
       "5      6   77705.206929  1.142482e+05\n",
       "6      7   79259.311068  1.397754e+05\n",
       "7      8   80844.497289  1.669753e+05\n",
       "8      9   82461.387235  1.959394e+05\n",
       "9     10   96727.207227  2.299182e+05\n",
       "10    11   98661.751371  2.660796e+05\n",
       "11    12  100634.986399  3.045423e+05\n",
       "12    13  102647.686127  3.454313e+05\n",
       "13    14  104700.639849  3.888781e+05\n",
       "14    15  122813.850543  4.390254e+05\n",
       "15    16  125270.127554  4.922942e+05\n",
       "16    17  127775.530105  5.488528e+05\n",
       "17    18  130331.040707  6.088782e+05\n",
       "18    19  132937.661521  6.725565e+05\n",
       "19    20  155935.876964  7.451683e+05\n",
       "20    21  159054.594504  8.221904e+05\n",
       "21    22  162235.686394  9.038589e+05\n",
       "22    23  165480.400121  9.904219e+05\n",
       "23    24  168790.008124  1.082140e+06\n",
       "24    25  197990.679529  1.185745e+06\n",
       "25    26  201950.493120  1.295520e+06\n",
       "26    27  205989.502982  1.411793e+06\n",
       "27    28  210109.293042  1.534910e+06"
      ]
     },
     "execution_count": 35,
     "metadata": {},
     "output_type": "execute_result"
    }
   ],
   "source": [
    "df = get_salaries_wealths_df(model_data)\n",
    "df"
   ]
  },
  {
   "cell_type": "code",
   "execution_count": null,
   "metadata": {},
   "outputs": [],
   "source": [
    "df.style.format({\n",
    "    'Salary': '${:,.0f}',\n",
    "    'Wealth': '${:,.0f}',\n",
    "}).bar(subset=['Salary', 'Wealth'])"
   ]
  }
 ],
 "metadata": {
  "kernelspec": {
   "display_name": "Python 3",
   "language": "python",
   "name": "python3"
  },
  "language_info": {
   "codemirror_mode": {
    "name": "ipython",
    "version": 3
   },
   "file_extension": ".py",
   "mimetype": "text/x-python",
   "name": "python",
   "nbconvert_exporter": "python",
   "pygments_lexer": "ipython3",
   "version": "3.13.0"
  }
 },
 "nbformat": 4,
 "nbformat_minor": 2
}
