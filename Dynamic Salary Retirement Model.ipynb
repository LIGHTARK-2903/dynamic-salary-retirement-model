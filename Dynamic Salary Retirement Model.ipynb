{
 "cells": [
  {
   "cell_type": "markdown",
   "metadata": {},
   "source": [
    "# Dynamic Salary Retirement Model\n",
    "\n",
    "Table of content:\n",
    "- [**Setup**](#Setup): Runs any imports or other setup\n",
    "- [**Inputs**](#Inputs): Defines the input of the model\n",
    "- [**Salaries**](#Salaries): Determines the annual salary based on cost of living and promotion raises.\n",
    "- [**Wealth**](#Wealth): Calculates the wealth generating over the years.\n",
    "- [**Retirement**](#Retirement): Calculates the Retirement Corpus after each year."
   ]
  },
  {
   "cell_type": "markdown",
   "metadata": {},
   "source": [
    "# Setup\n",
    "\n",
    "Setups for the later calculations are here. The necessary packages are imported."
   ]
  },
  {
   "cell_type": "code",
   "execution_count": 34,
   "metadata": {},
   "outputs": [],
   "source": [
    "from dataclasses import dataclass\n",
    "import pandas as pd\n",
    "import matplotlib"
   ]
  },
  {
   "cell_type": "markdown",
   "metadata": {},
   "source": [
    "# Inputs \n",
    "All the inputs for the model are defined here. A class is contructed to manage the data, and an instance of the class containing the default inputs is created."
   ]
  },
  {
   "cell_type": "code",
   "execution_count": 3,
   "metadata": {},
   "outputs": [
    {
     "data": {
      "text/plain": [
       "ModelInputs(starting_salary=60000, promos_after_every_n_years=5, cost_of_living_raise=0.02, promo_raise=0.15, savings_rate=0.25, interest_rate=0.05, desired_cash=1500000)"
      ]
     },
     "execution_count": 3,
     "metadata": {},
     "output_type": "execute_result"
    }
   ],
   "source": [
    "@dataclass\n",
    "class ModelInputs:\n",
    "    starting_salary: int = 60000\n",
    "    promos_after_every_n_years: int = 5\n",
    "    cost_of_living_raise: float = 0.02\n",
    "    promo_raise: float = 0.15\n",
    "    savings_rate: float = 0.25\n",
    "    interest_rate: float = 0.05\n",
    "    desired_cash: int = 1500000\n",
    "\n",
    "model_data = ModelInputs()\n",
    "model_data"
   ]
  },
  {
   "cell_type": "code",
   "execution_count": 4,
   "metadata": {},
   "outputs": [],
   "source": [
    "data = model_data"
   ]
  },
  {
   "cell_type": "markdown",
   "metadata": {},
   "source": [
    "## Salaries\n",
    "\n",
    "Using the Formula : $S_t = S_0(1 + r_l)^t (1 + r_p)^p$ we will calculate the salaries at different years.<br><br>\n",
    "where\n",
    "- $S_t$ : Salary at year $t$\n",
    "- $S_0$ : Starting Salary\n",
    "- $r_l$ : Return for cost of living\n",
    "- $r_p$ : Return for Promotion\n",
    "- $t$ : Number of Years\n",
    "- $p$ : Number of Promotions"
   ]
  },
  {
   "cell_type": "code",
   "execution_count": 5,
   "metadata": {},
   "outputs": [],
   "source": [
    "def salary_at_year(data, year):\n",
    "    \"\"\"\n",
    "    Using this function will give you the salary at that particular year.\n",
    "    \"\"\"\n",
    "    num_promos = int(year/data.promos_after_every_n_years)\n",
    "\n",
    "    salary_t = data.starting_salary * (1 + data.cost_of_living_raise)**year * (1 + data.promo_raise)** num_promos\n",
    "    return salary_t"
   ]
  },
  {
   "cell_type": "code",
   "execution_count": 6,
   "metadata": {},
   "outputs": [
    {
     "name": "stdout",
     "output_type": "stream",
     "text": [
      "The Salary at year 1 is $61,200\n",
      "The Salary at year 2 is $62,424\n",
      "The Salary at year 3 is $63,672\n",
      "The Salary at year 4 is $64,946\n",
      "The Salary at year 5 is $76,182\n",
      "The Salary at year 6 is $77,705\n"
     ]
    }
   ],
   "source": [
    "for i in range(6):\n",
    "    year = i +1\n",
    "    salary = salary_at_year(model_data, year)\n",
    "    print(f'The Salary at year {year} is ${salary:,.0f}')"
   ]
  },
  {
   "cell_type": "markdown",
   "metadata": {},
   "source": [
    "## Wealth\n",
    "\n",
    "Using the formula : $W_t = W_t-1 (1 + r_i) + S_t v$ we will calculate the Wealth generated at different years. <br><br>where\n",
    "- $S_t$ : Salary at year $t$\n",
    "- $W_t$ : Wealth at year $t$\n",
    "- $r_i$ : Investment Return\n",
    "- $t$ : Number of years\n",
    "- $v$ : Savings Rate"
   ]
  },
  {
   "cell_type": "code",
   "execution_count": 7,
   "metadata": {},
   "outputs": [
    {
     "data": {
      "text/plain": [
       "30703.46263573066"
      ]
     },
     "execution_count": 7,
     "metadata": {},
     "output_type": "execute_result"
    }
   ],
   "source": [
    "def cash_saved_during_year(data, year):\n",
    "    salary = salary_at_year(data, year)\n",
    "    cash_saved = salary * data.savings_rate\n",
    "    return cash_saved\n",
    "cash_saved_during_year(model_data, 15)"
   ]
  },
  {
   "cell_type": "code",
   "execution_count": 8,
   "metadata": {},
   "outputs": [],
   "source": [
    "def wealth_at_year(data, year, prior_wealth):\n",
    "    cash_saved = cash_saved_during_year(data, year)\n",
    "    wealth = prior_wealth * (1 + data.interest_rate) + cash_saved\n",
    "    return wealth"
   ]
  },
  {
   "cell_type": "code",
   "execution_count": 9,
   "metadata": {},
   "outputs": [
    {
     "name": "stdout",
     "output_type": "stream",
     "text": [
      "The wealth at year 1 is $15,300\n",
      "The wealth at year 2 is $31,671\n",
      "The wealth at year 3 is $49,173\n",
      "The wealth at year 4 is $67,868\n",
      "The wealth at year 5 is $90,307\n",
      "The wealth at year 6 is $114,248\n"
     ]
    }
   ],
   "source": [
    "prior_wealth = 0\n",
    "for i in range(6):\n",
    "    year = i + 1\n",
    "    wealth = wealth_at_year(model_data, year, prior_wealth)\n",
    "    print(f'The wealth at year {year} is ${wealth:,.0f}')\n",
    "\n",
    "    prior_wealth = wealth"
   ]
  },
  {
   "cell_type": "markdown",
   "metadata": {},
   "source": [
    "## Retirement"
   ]
  },
  {
   "cell_type": "code",
   "execution_count": 10,
   "metadata": {},
   "outputs": [],
   "source": [
    "def years_to_retirement(data):\n",
    "\n",
    "    # starting with no cash saved\n",
    "    prior_wealth = 0\n",
    "    wealth = 0\n",
    "\n",
    "    year = 0 # will become 1 on first loop\n",
    "\n",
    "    print('Wealth over time:') # \\n makes a blank line in the outpu\n",
    "    while wealth < data.desired_cash:\n",
    "        year = year + 1\n",
    "        wealth = wealth_at_year(data, year, prior_wealth)\n",
    "        print(f'The wealth at year {year} is ${wealth:,.0f}')\n",
    "\n",
    "        # set next year's prior wealth to this year's wealth\n",
    "        prior_wealth = wealth\n",
    "    \n",
    "    # Now we have exited the loop, so wealth must be >= desired_cash. Whatever last year was set\n",
    "    # is the years to retirement   \n",
    "    print(f'\\nRetirement:\\nIt will take you {year} years to retire.')\n",
    "    return year"
   ]
  },
  {
   "cell_type": "code",
   "execution_count": 11,
   "metadata": {},
   "outputs": [
    {
     "name": "stdout",
     "output_type": "stream",
     "text": [
      "Wealth over time:\n",
      "The wealth at year 1 is $15,300\n",
      "The wealth at year 2 is $31,671\n",
      "The wealth at year 3 is $49,173\n",
      "The wealth at year 4 is $67,868\n",
      "The wealth at year 5 is $90,307\n",
      "The wealth at year 6 is $114,248\n",
      "The wealth at year 7 is $139,775\n",
      "The wealth at year 8 is $166,975\n",
      "The wealth at year 9 is $195,939\n",
      "The wealth at year 10 is $229,918\n",
      "The wealth at year 11 is $266,080\n",
      "The wealth at year 12 is $304,542\n",
      "The wealth at year 13 is $345,431\n",
      "The wealth at year 14 is $388,878\n",
      "The wealth at year 15 is $439,025\n",
      "The wealth at year 16 is $492,294\n",
      "The wealth at year 17 is $548,853\n",
      "The wealth at year 18 is $608,878\n",
      "The wealth at year 19 is $672,557\n",
      "The wealth at year 20 is $745,168\n",
      "The wealth at year 21 is $822,190\n",
      "The wealth at year 22 is $903,859\n",
      "The wealth at year 23 is $990,422\n",
      "The wealth at year 24 is $1,082,140\n",
      "The wealth at year 25 is $1,185,745\n",
      "The wealth at year 26 is $1,295,520\n",
      "The wealth at year 27 is $1,411,793\n",
      "The wealth at year 28 is $1,534,910\n",
      "\n",
      "Retirement:\n",
      "It will take you 28 years to retire.\n"
     ]
    }
   ],
   "source": [
    "ytr = years_to_retirement(model_data)"
   ]
  },
  {
   "cell_type": "markdown",
   "metadata": {},
   "source": [
    "# Results Summary"
   ]
  },
  {
   "cell_type": "code",
   "execution_count": 12,
   "metadata": {},
   "outputs": [],
   "source": [
    "def get_salaries_wealths_df(data):\n",
    "    # Starting with no cash saved\n",
    "    prior_wealth = 0\n",
    "    wealth = 0\n",
    "        \n",
    "    year = 0 # will become 1 on first loop\n",
    "\n",
    "    df_data_tups = []\n",
    "    while wealth < data.desired_cash:\n",
    "        year = year + 1\n",
    "        salary = salary_at_year(data, year)\n",
    "        wealth = wealth_at_year(model_data, year, prior_wealth)\n",
    "\n",
    "        # set next year's prior wealth to this year's wealth\n",
    "        prior_wealth = wealth\n",
    "\n",
    "        df_data_tups.append((year, salary, wealth))\n",
    "\n",
    "    df = pd.DataFrame(df_data_tups, columns = ['Year', 'Salary', 'Wealth'])\n",
    "    return df"
   ]
  },
  {
   "cell_type": "code",
   "execution_count": 26,
   "metadata": {},
   "outputs": [],
   "source": [
    "def style_salaries_wealth(df):\n",
    "    return df.style.format({\n",
    "        'Salary': '${:,.0f}',\n",
    "        'Wealth': '${:,.0f}',\n",
    "    }).bar(subset=['Salary', 'Wealth'])"
   ]
  },
  {
   "cell_type": "code",
   "execution_count": 31,
   "metadata": {},
   "outputs": [
    {
     "data": {
      "text/html": [
       "<style type=\"text/css\">\n",
       "#T_687eb_row0_col1 {\n",
       "  width: 10em;\n",
       "  background: linear-gradient(90deg, #d65f5f 29.1%, transparent 29.1%);\n",
       "}\n",
       "#T_687eb_row0_col2 {\n",
       "  width: 10em;\n",
       "  background: linear-gradient(90deg, #d65f5f 1.0%, transparent 1.0%);\n",
       "}\n",
       "#T_687eb_row1_col1 {\n",
       "  width: 10em;\n",
       "  background: linear-gradient(90deg, #d65f5f 29.7%, transparent 29.7%);\n",
       "}\n",
       "#T_687eb_row1_col2 {\n",
       "  width: 10em;\n",
       "  background: linear-gradient(90deg, #d65f5f 2.1%, transparent 2.1%);\n",
       "}\n",
       "#T_687eb_row2_col1 {\n",
       "  width: 10em;\n",
       "  background: linear-gradient(90deg, #d65f5f 30.3%, transparent 30.3%);\n",
       "}\n",
       "#T_687eb_row2_col2 {\n",
       "  width: 10em;\n",
       "  background: linear-gradient(90deg, #d65f5f 3.2%, transparent 3.2%);\n",
       "}\n",
       "#T_687eb_row3_col1 {\n",
       "  width: 10em;\n",
       "  background: linear-gradient(90deg, #d65f5f 30.9%, transparent 30.9%);\n",
       "}\n",
       "#T_687eb_row3_col2 {\n",
       "  width: 10em;\n",
       "  background: linear-gradient(90deg, #d65f5f 4.4%, transparent 4.4%);\n",
       "}\n",
       "#T_687eb_row4_col1 {\n",
       "  width: 10em;\n",
       "  background: linear-gradient(90deg, #d65f5f 36.3%, transparent 36.3%);\n",
       "}\n",
       "#T_687eb_row4_col2 {\n",
       "  width: 10em;\n",
       "  background: linear-gradient(90deg, #d65f5f 5.9%, transparent 5.9%);\n",
       "}\n",
       "#T_687eb_row5_col1 {\n",
       "  width: 10em;\n",
       "  background: linear-gradient(90deg, #d65f5f 37.0%, transparent 37.0%);\n",
       "}\n",
       "#T_687eb_row5_col2 {\n",
       "  width: 10em;\n",
       "  background: linear-gradient(90deg, #d65f5f 7.4%, transparent 7.4%);\n",
       "}\n",
       "#T_687eb_row6_col1 {\n",
       "  width: 10em;\n",
       "  background: linear-gradient(90deg, #d65f5f 37.7%, transparent 37.7%);\n",
       "}\n",
       "#T_687eb_row6_col2 {\n",
       "  width: 10em;\n",
       "  background: linear-gradient(90deg, #d65f5f 9.1%, transparent 9.1%);\n",
       "}\n",
       "#T_687eb_row7_col1 {\n",
       "  width: 10em;\n",
       "  background: linear-gradient(90deg, #d65f5f 38.5%, transparent 38.5%);\n",
       "}\n",
       "#T_687eb_row7_col2 {\n",
       "  width: 10em;\n",
       "  background: linear-gradient(90deg, #d65f5f 10.9%, transparent 10.9%);\n",
       "}\n",
       "#T_687eb_row8_col1 {\n",
       "  width: 10em;\n",
       "  background: linear-gradient(90deg, #d65f5f 39.2%, transparent 39.2%);\n",
       "}\n",
       "#T_687eb_row8_col2 {\n",
       "  width: 10em;\n",
       "  background: linear-gradient(90deg, #d65f5f 12.8%, transparent 12.8%);\n",
       "}\n",
       "#T_687eb_row9_col1 {\n",
       "  width: 10em;\n",
       "  background: linear-gradient(90deg, #d65f5f 46.0%, transparent 46.0%);\n",
       "}\n",
       "#T_687eb_row9_col2 {\n",
       "  width: 10em;\n",
       "  background: linear-gradient(90deg, #d65f5f 15.0%, transparent 15.0%);\n",
       "}\n",
       "#T_687eb_row10_col1 {\n",
       "  width: 10em;\n",
       "  background: linear-gradient(90deg, #d65f5f 47.0%, transparent 47.0%);\n",
       "}\n",
       "#T_687eb_row10_col2 {\n",
       "  width: 10em;\n",
       "  background: linear-gradient(90deg, #d65f5f 17.3%, transparent 17.3%);\n",
       "}\n",
       "#T_687eb_row11_col1 {\n",
       "  width: 10em;\n",
       "  background: linear-gradient(90deg, #d65f5f 47.9%, transparent 47.9%);\n",
       "}\n",
       "#T_687eb_row11_col2 {\n",
       "  width: 10em;\n",
       "  background: linear-gradient(90deg, #d65f5f 19.8%, transparent 19.8%);\n",
       "}\n",
       "#T_687eb_row12_col1 {\n",
       "  width: 10em;\n",
       "  background: linear-gradient(90deg, #d65f5f 48.9%, transparent 48.9%);\n",
       "}\n",
       "#T_687eb_row12_col2 {\n",
       "  width: 10em;\n",
       "  background: linear-gradient(90deg, #d65f5f 22.5%, transparent 22.5%);\n",
       "}\n",
       "#T_687eb_row13_col1 {\n",
       "  width: 10em;\n",
       "  background: linear-gradient(90deg, #d65f5f 49.8%, transparent 49.8%);\n",
       "}\n",
       "#T_687eb_row13_col2 {\n",
       "  width: 10em;\n",
       "  background: linear-gradient(90deg, #d65f5f 25.3%, transparent 25.3%);\n",
       "}\n",
       "#T_687eb_row14_col1 {\n",
       "  width: 10em;\n",
       "  background: linear-gradient(90deg, #d65f5f 58.5%, transparent 58.5%);\n",
       "}\n",
       "#T_687eb_row14_col2 {\n",
       "  width: 10em;\n",
       "  background: linear-gradient(90deg, #d65f5f 28.6%, transparent 28.6%);\n",
       "}\n",
       "#T_687eb_row15_col1 {\n",
       "  width: 10em;\n",
       "  background: linear-gradient(90deg, #d65f5f 59.6%, transparent 59.6%);\n",
       "}\n",
       "#T_687eb_row15_col2 {\n",
       "  width: 10em;\n",
       "  background: linear-gradient(90deg, #d65f5f 32.1%, transparent 32.1%);\n",
       "}\n",
       "#T_687eb_row16_col1 {\n",
       "  width: 10em;\n",
       "  background: linear-gradient(90deg, #d65f5f 60.8%, transparent 60.8%);\n",
       "}\n",
       "#T_687eb_row16_col2 {\n",
       "  width: 10em;\n",
       "  background: linear-gradient(90deg, #d65f5f 35.8%, transparent 35.8%);\n",
       "}\n",
       "#T_687eb_row17_col1 {\n",
       "  width: 10em;\n",
       "  background: linear-gradient(90deg, #d65f5f 62.0%, transparent 62.0%);\n",
       "}\n",
       "#T_687eb_row17_col2 {\n",
       "  width: 10em;\n",
       "  background: linear-gradient(90deg, #d65f5f 39.7%, transparent 39.7%);\n",
       "}\n",
       "#T_687eb_row18_col1 {\n",
       "  width: 10em;\n",
       "  background: linear-gradient(90deg, #d65f5f 63.3%, transparent 63.3%);\n",
       "}\n",
       "#T_687eb_row18_col2 {\n",
       "  width: 10em;\n",
       "  background: linear-gradient(90deg, #d65f5f 43.8%, transparent 43.8%);\n",
       "}\n",
       "#T_687eb_row19_col1 {\n",
       "  width: 10em;\n",
       "  background: linear-gradient(90deg, #d65f5f 74.2%, transparent 74.2%);\n",
       "}\n",
       "#T_687eb_row19_col2 {\n",
       "  width: 10em;\n",
       "  background: linear-gradient(90deg, #d65f5f 48.5%, transparent 48.5%);\n",
       "}\n",
       "#T_687eb_row20_col1 {\n",
       "  width: 10em;\n",
       "  background: linear-gradient(90deg, #d65f5f 75.7%, transparent 75.7%);\n",
       "}\n",
       "#T_687eb_row20_col2 {\n",
       "  width: 10em;\n",
       "  background: linear-gradient(90deg, #d65f5f 53.6%, transparent 53.6%);\n",
       "}\n",
       "#T_687eb_row21_col1 {\n",
       "  width: 10em;\n",
       "  background: linear-gradient(90deg, #d65f5f 77.2%, transparent 77.2%);\n",
       "}\n",
       "#T_687eb_row21_col2 {\n",
       "  width: 10em;\n",
       "  background: linear-gradient(90deg, #d65f5f 58.9%, transparent 58.9%);\n",
       "}\n",
       "#T_687eb_row22_col1 {\n",
       "  width: 10em;\n",
       "  background: linear-gradient(90deg, #d65f5f 78.8%, transparent 78.8%);\n",
       "}\n",
       "#T_687eb_row22_col2 {\n",
       "  width: 10em;\n",
       "  background: linear-gradient(90deg, #d65f5f 64.5%, transparent 64.5%);\n",
       "}\n",
       "#T_687eb_row23_col1 {\n",
       "  width: 10em;\n",
       "  background: linear-gradient(90deg, #d65f5f 80.3%, transparent 80.3%);\n",
       "}\n",
       "#T_687eb_row23_col2 {\n",
       "  width: 10em;\n",
       "  background: linear-gradient(90deg, #d65f5f 70.5%, transparent 70.5%);\n",
       "}\n",
       "#T_687eb_row24_col1 {\n",
       "  width: 10em;\n",
       "  background: linear-gradient(90deg, #d65f5f 94.2%, transparent 94.2%);\n",
       "}\n",
       "#T_687eb_row24_col2 {\n",
       "  width: 10em;\n",
       "  background: linear-gradient(90deg, #d65f5f 77.3%, transparent 77.3%);\n",
       "}\n",
       "#T_687eb_row25_col1 {\n",
       "  width: 10em;\n",
       "  background: linear-gradient(90deg, #d65f5f 96.1%, transparent 96.1%);\n",
       "}\n",
       "#T_687eb_row25_col2 {\n",
       "  width: 10em;\n",
       "  background: linear-gradient(90deg, #d65f5f 84.4%, transparent 84.4%);\n",
       "}\n",
       "#T_687eb_row26_col1 {\n",
       "  width: 10em;\n",
       "  background: linear-gradient(90deg, #d65f5f 98.0%, transparent 98.0%);\n",
       "}\n",
       "#T_687eb_row26_col2 {\n",
       "  width: 10em;\n",
       "  background: linear-gradient(90deg, #d65f5f 92.0%, transparent 92.0%);\n",
       "}\n",
       "#T_687eb_row27_col1, #T_687eb_row27_col2 {\n",
       "  width: 10em;\n",
       "  background: linear-gradient(90deg, #d65f5f 100.0%, transparent 100.0%);\n",
       "}\n",
       "</style>\n",
       "<table id=\"T_687eb\">\n",
       "  <thead>\n",
       "    <tr>\n",
       "      <th class=\"blank level0\" >&nbsp;</th>\n",
       "      <th id=\"T_687eb_level0_col0\" class=\"col_heading level0 col0\" >Year</th>\n",
       "      <th id=\"T_687eb_level0_col1\" class=\"col_heading level0 col1\" >Salary</th>\n",
       "      <th id=\"T_687eb_level0_col2\" class=\"col_heading level0 col2\" >Wealth</th>\n",
       "    </tr>\n",
       "  </thead>\n",
       "  <tbody>\n",
       "    <tr>\n",
       "      <th id=\"T_687eb_level0_row0\" class=\"row_heading level0 row0\" >0</th>\n",
       "      <td id=\"T_687eb_row0_col0\" class=\"data row0 col0\" >1</td>\n",
       "      <td id=\"T_687eb_row0_col1\" class=\"data row0 col1\" >$61,200</td>\n",
       "      <td id=\"T_687eb_row0_col2\" class=\"data row0 col2\" >$15,300</td>\n",
       "    </tr>\n",
       "    <tr>\n",
       "      <th id=\"T_687eb_level0_row1\" class=\"row_heading level0 row1\" >1</th>\n",
       "      <td id=\"T_687eb_row1_col0\" class=\"data row1 col0\" >2</td>\n",
       "      <td id=\"T_687eb_row1_col1\" class=\"data row1 col1\" >$62,424</td>\n",
       "      <td id=\"T_687eb_row1_col2\" class=\"data row1 col2\" >$31,671</td>\n",
       "    </tr>\n",
       "    <tr>\n",
       "      <th id=\"T_687eb_level0_row2\" class=\"row_heading level0 row2\" >2</th>\n",
       "      <td id=\"T_687eb_row2_col0\" class=\"data row2 col0\" >3</td>\n",
       "      <td id=\"T_687eb_row2_col1\" class=\"data row2 col1\" >$63,672</td>\n",
       "      <td id=\"T_687eb_row2_col2\" class=\"data row2 col2\" >$49,173</td>\n",
       "    </tr>\n",
       "    <tr>\n",
       "      <th id=\"T_687eb_level0_row3\" class=\"row_heading level0 row3\" >3</th>\n",
       "      <td id=\"T_687eb_row3_col0\" class=\"data row3 col0\" >4</td>\n",
       "      <td id=\"T_687eb_row3_col1\" class=\"data row3 col1\" >$64,946</td>\n",
       "      <td id=\"T_687eb_row3_col2\" class=\"data row3 col2\" >$67,868</td>\n",
       "    </tr>\n",
       "    <tr>\n",
       "      <th id=\"T_687eb_level0_row4\" class=\"row_heading level0 row4\" >4</th>\n",
       "      <td id=\"T_687eb_row4_col0\" class=\"data row4 col0\" >5</td>\n",
       "      <td id=\"T_687eb_row4_col1\" class=\"data row4 col1\" >$76,182</td>\n",
       "      <td id=\"T_687eb_row4_col2\" class=\"data row4 col2\" >$90,307</td>\n",
       "    </tr>\n",
       "    <tr>\n",
       "      <th id=\"T_687eb_level0_row5\" class=\"row_heading level0 row5\" >5</th>\n",
       "      <td id=\"T_687eb_row5_col0\" class=\"data row5 col0\" >6</td>\n",
       "      <td id=\"T_687eb_row5_col1\" class=\"data row5 col1\" >$77,705</td>\n",
       "      <td id=\"T_687eb_row5_col2\" class=\"data row5 col2\" >$114,248</td>\n",
       "    </tr>\n",
       "    <tr>\n",
       "      <th id=\"T_687eb_level0_row6\" class=\"row_heading level0 row6\" >6</th>\n",
       "      <td id=\"T_687eb_row6_col0\" class=\"data row6 col0\" >7</td>\n",
       "      <td id=\"T_687eb_row6_col1\" class=\"data row6 col1\" >$79,259</td>\n",
       "      <td id=\"T_687eb_row6_col2\" class=\"data row6 col2\" >$139,775</td>\n",
       "    </tr>\n",
       "    <tr>\n",
       "      <th id=\"T_687eb_level0_row7\" class=\"row_heading level0 row7\" >7</th>\n",
       "      <td id=\"T_687eb_row7_col0\" class=\"data row7 col0\" >8</td>\n",
       "      <td id=\"T_687eb_row7_col1\" class=\"data row7 col1\" >$80,844</td>\n",
       "      <td id=\"T_687eb_row7_col2\" class=\"data row7 col2\" >$166,975</td>\n",
       "    </tr>\n",
       "    <tr>\n",
       "      <th id=\"T_687eb_level0_row8\" class=\"row_heading level0 row8\" >8</th>\n",
       "      <td id=\"T_687eb_row8_col0\" class=\"data row8 col0\" >9</td>\n",
       "      <td id=\"T_687eb_row8_col1\" class=\"data row8 col1\" >$82,461</td>\n",
       "      <td id=\"T_687eb_row8_col2\" class=\"data row8 col2\" >$195,939</td>\n",
       "    </tr>\n",
       "    <tr>\n",
       "      <th id=\"T_687eb_level0_row9\" class=\"row_heading level0 row9\" >9</th>\n",
       "      <td id=\"T_687eb_row9_col0\" class=\"data row9 col0\" >10</td>\n",
       "      <td id=\"T_687eb_row9_col1\" class=\"data row9 col1\" >$96,727</td>\n",
       "      <td id=\"T_687eb_row9_col2\" class=\"data row9 col2\" >$229,918</td>\n",
       "    </tr>\n",
       "    <tr>\n",
       "      <th id=\"T_687eb_level0_row10\" class=\"row_heading level0 row10\" >10</th>\n",
       "      <td id=\"T_687eb_row10_col0\" class=\"data row10 col0\" >11</td>\n",
       "      <td id=\"T_687eb_row10_col1\" class=\"data row10 col1\" >$98,662</td>\n",
       "      <td id=\"T_687eb_row10_col2\" class=\"data row10 col2\" >$266,080</td>\n",
       "    </tr>\n",
       "    <tr>\n",
       "      <th id=\"T_687eb_level0_row11\" class=\"row_heading level0 row11\" >11</th>\n",
       "      <td id=\"T_687eb_row11_col0\" class=\"data row11 col0\" >12</td>\n",
       "      <td id=\"T_687eb_row11_col1\" class=\"data row11 col1\" >$100,635</td>\n",
       "      <td id=\"T_687eb_row11_col2\" class=\"data row11 col2\" >$304,542</td>\n",
       "    </tr>\n",
       "    <tr>\n",
       "      <th id=\"T_687eb_level0_row12\" class=\"row_heading level0 row12\" >12</th>\n",
       "      <td id=\"T_687eb_row12_col0\" class=\"data row12 col0\" >13</td>\n",
       "      <td id=\"T_687eb_row12_col1\" class=\"data row12 col1\" >$102,648</td>\n",
       "      <td id=\"T_687eb_row12_col2\" class=\"data row12 col2\" >$345,431</td>\n",
       "    </tr>\n",
       "    <tr>\n",
       "      <th id=\"T_687eb_level0_row13\" class=\"row_heading level0 row13\" >13</th>\n",
       "      <td id=\"T_687eb_row13_col0\" class=\"data row13 col0\" >14</td>\n",
       "      <td id=\"T_687eb_row13_col1\" class=\"data row13 col1\" >$104,701</td>\n",
       "      <td id=\"T_687eb_row13_col2\" class=\"data row13 col2\" >$388,878</td>\n",
       "    </tr>\n",
       "    <tr>\n",
       "      <th id=\"T_687eb_level0_row14\" class=\"row_heading level0 row14\" >14</th>\n",
       "      <td id=\"T_687eb_row14_col0\" class=\"data row14 col0\" >15</td>\n",
       "      <td id=\"T_687eb_row14_col1\" class=\"data row14 col1\" >$122,814</td>\n",
       "      <td id=\"T_687eb_row14_col2\" class=\"data row14 col2\" >$439,025</td>\n",
       "    </tr>\n",
       "    <tr>\n",
       "      <th id=\"T_687eb_level0_row15\" class=\"row_heading level0 row15\" >15</th>\n",
       "      <td id=\"T_687eb_row15_col0\" class=\"data row15 col0\" >16</td>\n",
       "      <td id=\"T_687eb_row15_col1\" class=\"data row15 col1\" >$125,270</td>\n",
       "      <td id=\"T_687eb_row15_col2\" class=\"data row15 col2\" >$492,294</td>\n",
       "    </tr>\n",
       "    <tr>\n",
       "      <th id=\"T_687eb_level0_row16\" class=\"row_heading level0 row16\" >16</th>\n",
       "      <td id=\"T_687eb_row16_col0\" class=\"data row16 col0\" >17</td>\n",
       "      <td id=\"T_687eb_row16_col1\" class=\"data row16 col1\" >$127,776</td>\n",
       "      <td id=\"T_687eb_row16_col2\" class=\"data row16 col2\" >$548,853</td>\n",
       "    </tr>\n",
       "    <tr>\n",
       "      <th id=\"T_687eb_level0_row17\" class=\"row_heading level0 row17\" >17</th>\n",
       "      <td id=\"T_687eb_row17_col0\" class=\"data row17 col0\" >18</td>\n",
       "      <td id=\"T_687eb_row17_col1\" class=\"data row17 col1\" >$130,331</td>\n",
       "      <td id=\"T_687eb_row17_col2\" class=\"data row17 col2\" >$608,878</td>\n",
       "    </tr>\n",
       "    <tr>\n",
       "      <th id=\"T_687eb_level0_row18\" class=\"row_heading level0 row18\" >18</th>\n",
       "      <td id=\"T_687eb_row18_col0\" class=\"data row18 col0\" >19</td>\n",
       "      <td id=\"T_687eb_row18_col1\" class=\"data row18 col1\" >$132,938</td>\n",
       "      <td id=\"T_687eb_row18_col2\" class=\"data row18 col2\" >$672,557</td>\n",
       "    </tr>\n",
       "    <tr>\n",
       "      <th id=\"T_687eb_level0_row19\" class=\"row_heading level0 row19\" >19</th>\n",
       "      <td id=\"T_687eb_row19_col0\" class=\"data row19 col0\" >20</td>\n",
       "      <td id=\"T_687eb_row19_col1\" class=\"data row19 col1\" >$155,936</td>\n",
       "      <td id=\"T_687eb_row19_col2\" class=\"data row19 col2\" >$745,168</td>\n",
       "    </tr>\n",
       "    <tr>\n",
       "      <th id=\"T_687eb_level0_row20\" class=\"row_heading level0 row20\" >20</th>\n",
       "      <td id=\"T_687eb_row20_col0\" class=\"data row20 col0\" >21</td>\n",
       "      <td id=\"T_687eb_row20_col1\" class=\"data row20 col1\" >$159,055</td>\n",
       "      <td id=\"T_687eb_row20_col2\" class=\"data row20 col2\" >$822,190</td>\n",
       "    </tr>\n",
       "    <tr>\n",
       "      <th id=\"T_687eb_level0_row21\" class=\"row_heading level0 row21\" >21</th>\n",
       "      <td id=\"T_687eb_row21_col0\" class=\"data row21 col0\" >22</td>\n",
       "      <td id=\"T_687eb_row21_col1\" class=\"data row21 col1\" >$162,236</td>\n",
       "      <td id=\"T_687eb_row21_col2\" class=\"data row21 col2\" >$903,859</td>\n",
       "    </tr>\n",
       "    <tr>\n",
       "      <th id=\"T_687eb_level0_row22\" class=\"row_heading level0 row22\" >22</th>\n",
       "      <td id=\"T_687eb_row22_col0\" class=\"data row22 col0\" >23</td>\n",
       "      <td id=\"T_687eb_row22_col1\" class=\"data row22 col1\" >$165,480</td>\n",
       "      <td id=\"T_687eb_row22_col2\" class=\"data row22 col2\" >$990,422</td>\n",
       "    </tr>\n",
       "    <tr>\n",
       "      <th id=\"T_687eb_level0_row23\" class=\"row_heading level0 row23\" >23</th>\n",
       "      <td id=\"T_687eb_row23_col0\" class=\"data row23 col0\" >24</td>\n",
       "      <td id=\"T_687eb_row23_col1\" class=\"data row23 col1\" >$168,790</td>\n",
       "      <td id=\"T_687eb_row23_col2\" class=\"data row23 col2\" >$1,082,140</td>\n",
       "    </tr>\n",
       "    <tr>\n",
       "      <th id=\"T_687eb_level0_row24\" class=\"row_heading level0 row24\" >24</th>\n",
       "      <td id=\"T_687eb_row24_col0\" class=\"data row24 col0\" >25</td>\n",
       "      <td id=\"T_687eb_row24_col1\" class=\"data row24 col1\" >$197,991</td>\n",
       "      <td id=\"T_687eb_row24_col2\" class=\"data row24 col2\" >$1,185,745</td>\n",
       "    </tr>\n",
       "    <tr>\n",
       "      <th id=\"T_687eb_level0_row25\" class=\"row_heading level0 row25\" >25</th>\n",
       "      <td id=\"T_687eb_row25_col0\" class=\"data row25 col0\" >26</td>\n",
       "      <td id=\"T_687eb_row25_col1\" class=\"data row25 col1\" >$201,950</td>\n",
       "      <td id=\"T_687eb_row25_col2\" class=\"data row25 col2\" >$1,295,520</td>\n",
       "    </tr>\n",
       "    <tr>\n",
       "      <th id=\"T_687eb_level0_row26\" class=\"row_heading level0 row26\" >26</th>\n",
       "      <td id=\"T_687eb_row26_col0\" class=\"data row26 col0\" >27</td>\n",
       "      <td id=\"T_687eb_row26_col1\" class=\"data row26 col1\" >$205,990</td>\n",
       "      <td id=\"T_687eb_row26_col2\" class=\"data row26 col2\" >$1,411,793</td>\n",
       "    </tr>\n",
       "    <tr>\n",
       "      <th id=\"T_687eb_level0_row27\" class=\"row_heading level0 row27\" >27</th>\n",
       "      <td id=\"T_687eb_row27_col0\" class=\"data row27 col0\" >28</td>\n",
       "      <td id=\"T_687eb_row27_col1\" class=\"data row27 col1\" >$210,109</td>\n",
       "      <td id=\"T_687eb_row27_col2\" class=\"data row27 col2\" >$1,534,910</td>\n",
       "    </tr>\n",
       "  </tbody>\n",
       "</table>\n"
      ],
      "text/plain": [
       "<pandas.io.formats.style.Styler at 0x220e9745090>"
      ]
     },
     "execution_count": 31,
     "metadata": {},
     "output_type": "execute_result"
    }
   ],
   "source": [
    "df = get_salaries_wealths_df(model_data)\n",
    "style_salaries_wealth(df)"
   ]
  },
  {
   "cell_type": "code",
   "execution_count": 37,
   "metadata": {},
   "outputs": [
    {
     "data": {
      "text/plain": [
       "<Axes: xlabel='Year'>"
      ]
     },
     "execution_count": 37,
     "metadata": {},
     "output_type": "execute_result"
    },
    {
     "data": {
      "image/png": "[encoded data removed]",
      "text/plain": [
       "<Figure size 640x480 with 1 Axes>"
      ]
     },
     "metadata": {},
     "output_type": "display_data"
    }
   ],
   "source": [
    "df.plot.line(x = 'Year', y = 'Salary')"
   ]
  },
  {
   "cell_type": "code",
   "execution_count": 38,
   "metadata": {},
   "outputs": [
    {
     "data": {
      "text/plain": [
       "<Axes: xlabel='Year'>"
      ]
     },
     "execution_count": 38,
     "metadata": {},
     "output_type": "execute_result"
    },
    {
     "data": {
      "image/png": "[encoded data removed]",
      "text/plain": [
       "<Figure size 640x480 with 1 Axes>"
      ]
     },
     "metadata": {},
     "output_type": "display_data"
    }
   ],
   "source": [
    "df.plot.line(x = 'Year', y = 'Wealth')"
   ]
  }
 ],
 "metadata": {
  "kernelspec": {
   "display_name": "Python 3",
   "language": "python",
   "name": "python3"
  },
  "language_info": {
   "codemirror_mode": {
    "name": "ipython",
    "version": 3
   },
   "file_extension": ".py",
   "mimetype": "text/x-python",
   "name": "python",
   "nbconvert_exporter": "python",
   "pygments_lexer": "ipython3",
   "version": "3.13.0"
  }
 },
 "nbformat": 4,
 "nbformat_minor": 2
}
